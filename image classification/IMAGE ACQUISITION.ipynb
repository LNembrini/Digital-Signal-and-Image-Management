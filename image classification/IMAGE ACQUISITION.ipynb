{
 "cells": [
  {
   "attachments": {},
   "cell_type": "markdown",
   "metadata": {},
   "source": [
    "Laura Nembrini Matr. 819059 \\\n",
    "Gabriele Strano Matr. 866563\\\n",
    "Davide Mancino Matr. 847700\n"
   ]
  },
  {
   "cell_type": "markdown",
   "metadata": {},
   "source": [
    "# Importo pacchetti"
   ]
  },
  {
   "cell_type": "code",
   "execution_count": null,
   "metadata": {},
   "outputs": [],
   "source": [
    "pip install opencv-python"
   ]
  },
  {
   "cell_type": "code",
   "execution_count": null,
   "metadata": {},
   "outputs": [],
   "source": [
    "import numpy as np\n",
    "import cv2 as cv\n",
    "from cv2 import VideoCapture as cap\n",
    "import matplotlib.pyplot as plt\n",
    "from skimage import io\n",
    "import os\n",
    "import math\n",
    "import time"
   ]
  },
  {
   "cell_type": "markdown",
   "metadata": {},
   "source": [
    "# Funzione acquisizione immagini\n",
    "La seguente funzione ottiene i frames direttamente dalla webcam del pc e li salva direttamente nelle rispettive cartelle. Sono state acquisite 30 immagini per ciascun soggetto. "
   ]
  },
  {
   "cell_type": "code",
   "execution_count": null,
   "metadata": {},
   "outputs": [],
   "source": [
    "def acquisition_cam(directory, subject, init_number, counter_limit, time_sleep = 2, numbered = False):\n",
    "    \n",
    "    #camera assignment\n",
    "    cam = cv.VideoCapture(0)\n",
    "    #address='http://192.168.1.5:8080/video'\n",
    "    #cam.open(address)\n",
    "    #variables for count \n",
    "    img_counter = init_number\n",
    "    counter = 1\n",
    "    \n",
    "    # loop for sequentially image acquisition\n",
    "    while True:\n",
    "        #Capture frame-by-frame\n",
    "        ret, frame = cam.read()\n",
    "        #riproduce frame on window \n",
    "        #frame=process_frame(frame)\n",
    "        cv.imshow('video',frame)\n",
    "        \n",
    "        # if it not works, interrupts loop\n",
    "        if not ret:\n",
    "            break\n",
    "        k = cv.waitKey(1)\n",
    "        \n",
    "        #time.sleep is used to set the time between acquisition \n",
    "        time.sleep(time_sleep)\n",
    "        \n",
    "        if k%256 == 27:\n",
    "            # ESC pressed\n",
    "            print(\"Escape hit, closing...\")\n",
    "            break\n",
    "        elif k%256 == 32:\n",
    "            # SPACE pressed\n",
    "            img_name = \"{}{} ({}).jpg\".format(directory, subject, img_counter)\n",
    "            cv.imwrite(img_name, frame)\n",
    "            print(\"{} written!\".format(img_name))\n",
    "            img_counter += 1\n",
    "\n",
    "    \n",
    "            #define the number of acquisition (limit to acquisition), i.e. number of total images acquisition\n",
    "            if numbered:\n",
    "                if counter == counter_limit:\n",
    "                    print(\"Counter limit reached:{}\".format(counter_limit))\n",
    "                    break\n",
    "                counter+=1\n",
    "\n",
    "    # close cam and window cam\n",
    "    cam.release()\n",
    "    cv.destroyAllWindows()"
   ]
  },
  {
   "cell_type": "code",
   "execution_count": null,
   "metadata": {},
   "outputs": [],
   "source": [
    "def process_frame(img):\n",
    "    return img"
   ]
  },
  {
   "cell_type": "code",
   "execution_count": null,
   "metadata": {},
   "outputs": [],
   "source": [
    "from_directory=(\"C:/Users/LAURA/Desktop/DSIMPROJECT/LAURA\")\n",
    "acquisition_cam(directory = from_directory, subject = \"laura\", init_number = 0, counter_limit = 30, time_sleep = 0.5, numbered = True)"
   ]
  },
  {
   "cell_type": "code",
   "execution_count": null,
   "metadata": {},
   "outputs": [],
   "source": [
    "from_directory=(\"C:/Users/LAURA/Desktop/DSIMPROJECT/GABRIELE/\")\n",
    "acquisition_cam(directory = from_directory, subject = \"gabriele\", init_number = 0, counter_limit = 30, time_sleep = 0.5, numbered = True)"
   ]
  },
  {
   "cell_type": "code",
   "execution_count": null,
   "metadata": {},
   "outputs": [],
   "source": [
    "from_directory=(\"C:/Users/LAURA/Desktop/DSIMPROJECT/DAVIDE/\")\n",
    "acquisition_cam(directory = from_directory, subject = \"davide\", init_number = 0, counter_limit = 30, time_sleep = 0.5, numbered = True)"
   ]
  }
 ],
 "metadata": {
  "kernelspec": {
   "display_name": "Python 3",
   "language": "python",
   "name": "python3"
  },
  "language_info": {
   "codemirror_mode": {
    "name": "ipython",
    "version": 3
   },
   "file_extension": ".py",
   "mimetype": "text/x-python",
   "name": "python",
   "nbconvert_exporter": "python",
   "pygments_lexer": "ipython3",
   "version": "3.7.3"
  }
 },
 "nbformat": 4,
 "nbformat_minor": 2
}
