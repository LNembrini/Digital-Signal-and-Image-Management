{
 "cells": [
  {
   "cell_type": "code",
   "execution_count": 1,
   "id": "8950a67d",
   "metadata": {},
   "outputs": [
    {
     "name": "stderr",
     "output_type": "stream",
     "text": [
      "C:\\Users\\Utente\\anaconda3\\envs\\Python3_6\\lib\\site-packages\\numpy\\_distributor_init.py:32: UserWarning: loaded more than 1 DLL from .libs:\n",
      "C:\\Users\\Utente\\anaconda3\\envs\\Python3_6\\lib\\site-packages\\numpy\\.libs\\libopenblas.NOIJJG62EMASZI6NYURL6JBKM4EVBGM7.gfortran-win_amd64.dll\n",
      "C:\\Users\\Utente\\anaconda3\\envs\\Python3_6\\lib\\site-packages\\numpy\\.libs\\libopenblas.XWYDX2IKJW2NMTWSFYNGFUWKQU3LYTCZ.gfortran-win_amd64.dll\n",
      "  stacklevel=1)\n"
     ]
    }
   ],
   "source": [
    "import sounddevice as sd\n",
    "from scipy.io.wavfile import write\n",
    "import speech_recognition as sr\n",
    "from gtts import gTTS\n",
    "import time\n",
    "import playsound\n",
    "import librosa\n",
    "import PySimpleGUI as sg\n",
    "import numpy as np\n",
    "import os\n",
    "import librosa\n",
    "import sys\n",
    "from tensorflow.keras.models import load_model\n",
    "import cv2 as cv"
   ]
  },
  {
   "cell_type": "code",
   "execution_count": 2,
   "id": "158cb348",
   "metadata": {},
   "outputs": [],
   "source": [
    "def crop(input, size):\n",
    "    output = input[0:min(size, input.shape[0])]\n",
    "    output = np.concatenate((output, np.zeros(size-output.shape[0])))\n",
    "    return output\n",
    "\n",
    "\n",
    "def mfcc(file_path, max_len=40):\n",
    "    seconds=3\n",
    "    wave, sr = librosa.load(file_path, mono=True, sr=44100)\n",
    "    wave = crop(wave, sr*seconds)\n",
    "    mfcc = librosa.feature.mfcc(wave, sr=sr, n_fft=2048, hop_length=512, n_mfcc=40)\n",
    "    return mfcc\n",
    "\n",
    "\n",
    "def main(input, model):\n",
    "    \n",
    "    dict_comm = {\"data\": 0, \"ora\": 1, \"temperatura\":2}\n",
    "    \n",
    "    #estraggo le features\n",
    "    X = mfcc(input)\n",
    "    X = X.reshape(-1,40,259,1)\n",
    "    \n",
    "    y_lau = np.argmax(model.predict(X)[0], axis=1)[0]\n",
    "    y_g = np.argmax(model.predict(X)[1], axis=1)[0]\n",
    "    y_d = np.argmax(model.predict(X)[2], axis=1)[0]\n",
    "\n",
    "    y_az = np.argmax(model.predict(X)[3], axis=1)[0]\n",
    "    azione = list(dict_comm.keys())[y_az]\n",
    "    \n",
    "    #subject = str()\n",
    "    \n",
    "    if y_lau==0 and y_g==0 and y_d==0:\n",
    "        subject = 'Sconosciuto'\n",
    "    elif y_lau==1 and y_g==0 and y_d==0:\n",
    "        subject = 'Laura'\n",
    "    elif y_lau==0 and y_g==1 and y_d==0:\n",
    "        subject = 'Gabriele'\n",
    "    elif y_lau==0 and y_g==0 and y_d==1:\n",
    "        subject = 'Davide'\n",
    "    else:\n",
    "        subject = 'Sconosciuto'\n",
    "\n",
    "    if azione=='data':\n",
    "        azione='Data'\n",
    "    elif azione=='ora':\n",
    "        azione='Ora'\n",
    "    else:\n",
    "        azione='Temperatura'\n",
    "\n",
    "    return subject, azione\n",
    "    \n",
    "\n",
    "def speak(text):\n",
    "    tts = gTTS(text=text, lang='it')\n",
    "    filename = 'C:\\\\Users\\\\Utente\\\\Desktop\\\\reply.mp3'\n",
    "    tts.save(filename)\n",
    "    playsound.playsound(filename)\n",
    "    os.remove(filename)"
   ]
  },
  {
   "cell_type": "code",
   "execution_count": 3,
   "id": "93c46b44",
   "metadata": {},
   "outputs": [],
   "source": [
    "PATH = 'C:\\\\Users\\\\Utente\\\\Desktop\\\\'"
   ]
  },
  {
   "cell_type": "code",
   "execution_count": 4,
   "id": "ecca5bc7",
   "metadata": {},
   "outputs": [
    {
     "name": "stdout",
     "output_type": "stream",
     "text": [
      "Wall time: 2.62 s\n"
     ]
    }
   ],
   "source": [
    "%time model = load_model(PATH+'model')"
   ]
  },
  {
   "cell_type": "code",
   "execution_count": 5,
   "id": "66d9dd2b",
   "metadata": {},
   "outputs": [
    {
     "data": {
      "text/plain": [
       "'it'"
      ]
     },
     "execution_count": 5,
     "metadata": {},
     "output_type": "execute_result"
    }
   ],
   "source": [
    "from datetime import datetime\n",
    "import locale\n",
    "locale.setlocale(locale.LC_ALL, 'it')"
   ]
  },
  {
   "cell_type": "code",
   "execution_count": 6,
   "id": "a062474b",
   "metadata": {},
   "outputs": [],
   "source": [
    "duration = 3\n",
    "rec_rate = 44100\n",
    "\n",
    "cap = cv.VideoCapture(0)\n",
    "status=\"\"\n",
    "f=\"\"\n",
    "\n",
    "i=1\n",
    "\n",
    "while(True):\n",
    "\n",
    "    r, frame = cap.read()\n",
    "    cv.putText(frame, f, (15, 37), cv.FONT_HERSHEY_SIMPLEX, 0.75, (255,255,255), 2)\n",
    "    cv.imshow(' ', frame)\n",
    "    \n",
    "    # Registra premendo il tasto R\n",
    "    if cv.waitKey(20) & 0xFF == ord('r'):\n",
    "        f = 'Inizio a registrare...'\n",
    "        audio = sd.rec(int(duration * rec_rate), samplerate=rec_rate, channels=1)\n",
    "        sd.wait(3)\n",
    "\n",
    "        write('temp.wav', rate=rec_rate, data=audio)\n",
    "\n",
    "        subject_, azione_ = main('temp.wav', model)\n",
    "        os.remove('temp.wav')\n",
    " \n",
    "        if azione_== 'Ora':\n",
    "            data= datetime.now()\n",
    "            viz= str(int(data.strftime(\"%H\"))) + \", \" + str(int(data.strftime(\"%M\")))+\" minuti, e \"+str(int(data.strftime(\"%S\")))+ \" secondi\"\n",
    "            if subject_ != 'Sconosciuto':\n",
    "                output_text = \"Ciao \"+ subject_ + \", sono le ore \"+ viz\n",
    "            else:\n",
    "                output_text = \"Ciao, oggi e il \"+ viz\n",
    "\n",
    "        if azione_== 'Data':\n",
    "            data= datetime.today()\n",
    "            viz= str(int(data.strftime(\"%d\")))+' '+str(data.strftime(\"%B\"))+' '+str(int(data.strftime(\"%Y\")))\n",
    "            if subject_ != 'Sconosciuto':\n",
    "                output_text = \"Ciao \"+ subject_ + \", oggi e il \"+ viz\n",
    "            else:\n",
    "                output_text = \"Ciao, oggi e il \"+ viz\n",
    "        \n",
    "        #da gestire con API che permettano di ottenere informazioni meteo \n",
    "        if azione_== 'Temperatura':\n",
    "            if subject_== 'Sconosciuto':\n",
    "                output_text = \"Ciao, la temperatura di oggi e \"+ \"5 gradi\"\n",
    "            elif subject_== 'Laura':\n",
    "                output_text = \"Ciao \"+ subject_ + \", la temperatura di oggi e \"+ \"14 gradi\"\n",
    "            elif subject_== 'Davide':\n",
    "                output_text = \"Ciao \"+ subject_ + \", la temperatura di oggi e \"+ \"14 gradi\"\n",
    "            elif subject_== 'Gabriele':\n",
    "                output_text = \"Ciao \"+ subject_ + \", la temperatura di oggi e \"+ \"14 gradi\"\n",
    "            else:\n",
    "                output_text = \"Ciao, la temperatura di oggi e \"+ \"5 gradi\"\n",
    "            \n",
    "        try:\n",
    "            f = output_text\n",
    "            speak(output_text)\n",
    "        except:\n",
    "            pass\n",
    "        \n",
    "    k = cv.waitKey(10) & 0xff\n",
    "    if k == 27: # press 'ESC' to quit\n",
    "        break\n",
    "        \n",
    "cap.release()\n",
    "cv.destroyAllWindows()"
   ]
  },
  {
   "cell_type": "code",
   "execution_count": null,
   "id": "bea5ced4",
   "metadata": {},
   "outputs": [],
   "source": []
  }
 ],
 "metadata": {
  "kernelspec": {
   "display_name": "Python3_6",
   "language": "python",
   "name": "python3_6"
  },
  "language_info": {
   "codemirror_mode": {
    "name": "ipython",
    "version": 3
   },
   "file_extension": ".py",
   "mimetype": "text/x-python",
   "name": "python",
   "nbconvert_exporter": "python",
   "pygments_lexer": "ipython3",
   "version": "3.7.10"
  }
 },
 "nbformat": 4,
 "nbformat_minor": 5
}
